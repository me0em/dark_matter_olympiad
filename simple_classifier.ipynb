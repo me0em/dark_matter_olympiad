{
 "cells": [
  {
   "cell_type": "code",
   "execution_count": 1,
   "metadata": {},
   "outputs": [],
   "source": [
    "import torch\n",
    "from torch import nn\n",
    "import torch.optim as optim\n",
    "from torch.nn import functional as F\n",
    "from torch.utils.data import Dataset, DataLoader, random_split\n",
    "from torchvision import transforms, utils, datasets, models\n",
    "\n",
    "from PIL import Image\n",
    "import pandas as pd\n",
    "from datetime import datetime\n",
    "\n",
    "from data_preporation import build_dataset"
   ]
  },
  {
   "cell_type": "markdown",
   "metadata": {},
   "source": [
    "#### Build dataset"
   ]
  },
  {
   "cell_type": "code",
   "execution_count": 2,
   "metadata": {},
   "outputs": [],
   "source": [
    "dataset = build_dataset(\"idao_dataset/train/\")\n",
    "\n",
    "# 80% is train, 20% is test\n",
    "train, test = random_split(\n",
    "    dataset,\n",
    "    [8*len(dataset)//10, len(dataset)-8*len(dataset)//10]\n",
    "    # torch.Generator().manual_seed(42)\n",
    ")\n",
    "\n",
    "train_loader = DataLoader(train, batch_size=10, shuffle=True, num_workers=16)\n",
    "test_loader = DataLoader(test, batch_size=10, shuffle=True, num_workers=16)"
   ]
  },
  {
   "cell_type": "code",
   "execution_count": 3,
   "metadata": {},
   "outputs": [
    {
     "name": "stdout",
     "output_type": "stream",
     "text": [
      "dataset: 13404\n",
      "train: 10723\n",
      "test: 2681\n",
      "\n"
     ]
    }
   ],
   "source": [
    "print(\n",
    "    f\"\"\"\\\n",
    "dataset: {len(dataset)}\n",
    "train: {len(train)}\n",
    "test: {len(test)}\n",
    "\"\"\"\n",
    ")"
   ]
  },
  {
   "cell_type": "markdown",
   "metadata": {},
   "source": [
    "#### Build the model"
   ]
  },
  {
   "cell_type": "code",
   "execution_count": 4,
   "metadata": {},
   "outputs": [],
   "source": [
    "class Meow(nn.Module):\n",
    "    def __init__(self):\n",
    "        super().__init__()\n",
    "        \n",
    "        self.convolution1 = nn.Sequential(\n",
    "            torch.nn.Conv2d(\n",
    "                in_channels=1, out_channels=8,\n",
    "                kernel_size=3, stride=1,\n",
    "                padding=0, bias=False\n",
    "            ),\n",
    "            \n",
    "            nn.BatchNorm2d(8),\n",
    "            nn.ReLU(),\n",
    "            torch.nn.MaxPool2d(kernel_size=3)\n",
    "        )\n",
    "        \n",
    "        self.convolution2 = nn.Sequential(\n",
    "            torch.nn.Conv2d(\n",
    "                in_channels=8, out_channels=16,\n",
    "                kernel_size=3, stride=1,\n",
    "                padding=0, bias=False\n",
    "            ),\n",
    "            nn.ReLU(),\n",
    "            torch.nn.MaxPool2d(kernel_size=3)\n",
    "        )\n",
    "        \n",
    "        self.convolution3 = nn.Sequential(\n",
    "            torch.nn.Conv2d(\n",
    "                in_channels=16, out_channels=32,\n",
    "                kernel_size=3, stride=1,\n",
    "                padding=0, bias=False\n",
    "            ),\n",
    "            nn.ReLU(),\n",
    "            torch.nn.MaxPool2d(kernel_size=3)\n",
    "        )\n",
    "        \n",
    "        self.convolution4 = nn.Sequential(\n",
    "            torch.nn.Conv2d(\n",
    "                in_channels=32, out_channels=64,\n",
    "                kernel_size=3, stride=1,\n",
    "                padding=0, bias=False\n",
    "            ),\n",
    "            nn.ReLU(),\n",
    "            torch.nn.MaxPool2d(kernel_size=3)\n",
    "        )\n",
    "        \n",
    "        self.convolution5 = nn.Sequential(\n",
    "            torch.nn.Conv2d(\n",
    "                in_channels=64, out_channels=128,\n",
    "                kernel_size=3, stride=1,\n",
    "                padding=0, bias=False\n",
    "            ),\n",
    "            nn.ReLU(),\n",
    "            torch.nn.MaxPool2d(kernel_size=3),\n",
    "            nn.BatchNorm2d(128)\n",
    "        )\n",
    "        \n",
    "        \n",
    "        self.ff = nn.Sequential(\n",
    "            nn.Linear(64*6*6, 64),\n",
    "            nn.ReLU(),\n",
    "            nn.Dropout(p=0.3),\n",
    "            nn.Linear(64, 1024),\n",
    "            nn.ReLU(),\n",
    "            nn.Dropout(p=0.3),\n",
    "            nn.Linear(1024, 1)\n",
    "        )\n",
    "        \n",
    "        \n",
    "    def forward(self, x):\n",
    "        x = self.convolution1(x)\n",
    "        x = self.convolution2(x)\n",
    "        x = self.convolution3(x)\n",
    "        x = self.convolution4(x)\n",
    "        \n",
    "        x = x.view(-1, 64*6*6)\n",
    "        x = self.ff(x)\n",
    "        x = torch.sigmoid(x)\n",
    "        \n",
    "        return x\n",
    "        \n",
    "    \n",
    "    def predict(self):\n",
    "        pass"
   ]
  },
  {
   "cell_type": "code",
   "execution_count": 5,
   "metadata": {},
   "outputs": [],
   "source": [
    "meow = Meow()\n",
    "if torch.cuda.is_available():\n",
    "    meow.cuda()"
   ]
  },
  {
   "cell_type": "code",
   "execution_count": 6,
   "metadata": {},
   "outputs": [],
   "source": [
    "loss_function = nn.BCELoss()\n",
    "optimizer = optim.Adam(meow.parameters(), lr=1e-3)"
   ]
  },
  {
   "cell_type": "code",
   "execution_count": 7,
   "metadata": {},
   "outputs": [],
   "source": [
    "train_losses, test_losses = [], []\n",
    "epoches = 1\n",
    "printing_gap = 100"
   ]
  },
  {
   "cell_type": "code",
   "execution_count": 9,
   "metadata": {},
   "outputs": [],
   "source": [
    "crepr = lambda tsr: \" \".join([str(round(i[0], 5)) for i in tsr.tolist()])"
   ]
  },
  {
   "cell_type": "code",
   "execution_count": 10,
   "metadata": {},
   "outputs": [
    {
     "name": "stdout",
     "output_type": "stream",
     "text": [
      "Epoch: 0\n",
      "sample: 100, loss: 0.5596102313985062, now: 0:00:43.602865, last: 0.23742 0.18219 0.62197 0.59299 0.63011 0.62747 0.50099 0.61645 0.51993 0.56204\n",
      "sample: 200, loss: 0.3865673248446338, now: 0:01:23.812954, last: 0.01269 0.9509 0.0 0.99755 0.0 0.98713 2e-05 0.00041 0.0 0.0\n",
      "sample: 300, loss: 0.2821921862087341, now: 0:02:03.969084, last: 0.98869 0.99544 0.99955 0.0 0.9853 0.9976 0.0 0.99913 0.99825 0.00214\n",
      "sample: 400, loss: 0.22863476563032392, now: 0:02:45.259113, last: 0.97222 0.98271 0.0 0.99836 0.0 0.0 0.99256 0.0 0.94916 0.0\n",
      "sample: 500, loss: 0.1935070155001434, now: 0:03:25.602689, last: 0.0 0.0 0.0 0.0 0.98536 0.0 0.0 0.96402 0.0 0.0\n",
      "sample: 600, loss: 0.18025300128012822, now: 0:04:06.760652, last: 0.0 0.00124 0.96423 0.98413 4e-05 0.9891 0.99155 0.0 0.99404 0.0\n",
      "sample: 700, loss: 0.1598261215233622, now: 0:04:48.014422, last: 0.01132 0.99278 0.0 0.0 0.98634 0.0 0.9998 0.99499 0.0 0.9878\n",
      "sample: 800, loss: 0.14408442061284077, now: 0:05:28.690889, last: 0.98576 0.0044 0.94175 7e-05 0.0 0.0 0.99934 0.0 0.76668 0.96911\n",
      "sample: 900, loss: 0.12949050184960215, now: 0:06:10.856011, last: 0.0 0.0 0.99999 0.99995 0.99664 0.0 0.0 0.0 0.99828 0.00023\n",
      "sample: 1000, loss: 0.12599545549261948, now: 0:06:53.220550, last: 0.0 0.99311 0.0 6e-05 0.0 0.99526 0.98463 0.0 0.99976 0.99884\n",
      "sample: 0, rights: 10, now: 0:07:23.745761\n",
      "sample: 100, rights: 1000, now: 0:07:40.289095\n",
      "sample: 200, rights: 1995, now: 0:07:57.369940\n",
      "Accuracy:  0.99033\n",
      "CPU times: user 44min 25s, sys: 1h 4min 50s, total: 1h 49min 15s\n",
      "Wall time: 8min 8s\n"
     ]
    }
   ],
   "source": [
    "%%time\n",
    "morning = datetime.now()\n",
    "for epoch in range(epoches):  # loop over the dataset multiple times\n",
    "    print(f\"Epoch: {epoch}\")\n",
    "    running_loss = 0\n",
    "    meow.train()\n",
    "    for i, data in enumerate(train_loader, 0):\n",
    "        # get the inputs; data is a list of [inputs, labels]\n",
    "        images, labels = data\n",
    "        labels = labels.unsqueeze(1)\n",
    "        \n",
    "        if torch.cuda.is_available():\n",
    "            images, labels = images.cuda(), labels.cuda()\n",
    "        \n",
    "        # zero the parameter gradients\n",
    "        optimizer.zero_grad()\n",
    "\n",
    "        outputs = meow(images) # forward\n",
    "        loss = loss_function(outputs.float(), labels.float())\n",
    "        loss.backward() # backward\n",
    "        optimizer.step() # optimize\n",
    "\n",
    "        # print statistics\n",
    "        running_loss += loss.item()\n",
    "        if i % printing_gap == 0 and i != 0:\n",
    "            print(f\"sample: {i}, loss: {running_loss / (i+1e-3)}, now: {str(datetime.now()-morning)}, last: {crepr(outputs)}\")\n",
    "\n",
    "# Validate\n",
    "\n",
    "rights = torch.tensor(0)\n",
    "\n",
    "with torch.no_grad():\n",
    "    for i, data in enumerate(test_loader, 0):\n",
    "        images, labels = data\n",
    "        labels = labels.unsqueeze(1)\n",
    "        \n",
    "        if torch.cuda.is_available():\n",
    "            images, labels = images.cuda(), labels.cuda()\n",
    "        \n",
    "        # zero the parameter gradients\n",
    "        optimizer.zero_grad()\n",
    "        outputs = meow(images) # forward\n",
    "        \n",
    "        outputs = outputs > 0.5\n",
    "        outputs = outputs.float()\n",
    "        \n",
    "        rights += (outputs == labels).int().sum()\n",
    "        \n",
    "        if i % printing_gap == 0:\n",
    "            print(f\"sample: {i}, rights: {rights}, now: {str(datetime.now()-morning)}\")\n",
    "\n",
    "print(\"Accuracy: \", round(int(rights) / (len(test_loader)*10), 5))"
   ]
  }
 ],
 "metadata": {
  "kernelspec": {
   "display_name": "Python 3",
   "language": "python",
   "name": "python3"
  },
  "language_info": {
   "codemirror_mode": {
    "name": "ipython",
    "version": 3
   },
   "file_extension": ".py",
   "mimetype": "text/x-python",
   "name": "python",
   "nbconvert_exporter": "python",
   "pygments_lexer": "ipython3",
   "version": "3.8.5"
  }
 },
 "nbformat": 4,
 "nbformat_minor": 4
}
